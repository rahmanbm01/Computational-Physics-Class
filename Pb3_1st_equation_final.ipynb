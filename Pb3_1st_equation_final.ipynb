{
 "cells": [
  {
   "cell_type": "code",
   "execution_count": 1,
   "metadata": {},
   "outputs": [
    {
     "name": "stdout",
     "output_type": "stream",
     "text": [
      "3.141592653589793\n"
     ]
    },
    {
     "data": {
      "text/plain": [
       "<Figure size 640x480 with 1 Axes>"
      ]
     },
     "metadata": {},
     "output_type": "display_data"
    },
    {
     "name": "stdout",
     "output_type": "stream",
     "text": [
      "3.141592653589793\n"
     ]
    },
    {
     "data": {
      "text/plain": [
       "<Figure size 640x480 with 1 Axes>"
      ]
     },
     "metadata": {},
     "output_type": "display_data"
    },
    {
     "name": "stdout",
     "output_type": "stream",
     "text": [
      "3.141592653589793\n"
     ]
    },
    {
     "data": {
      "text/plain": [
       "<Figure size 640x480 with 1 Axes>"
      ]
     },
     "metadata": {},
     "output_type": "display_data"
    },
    {
     "name": "stdout",
     "output_type": "stream",
     "text": [
      "3.141592653589793\n"
     ]
    },
    {
     "data": {
      "text/plain": [
       "<Figure size 640x480 with 1 Axes>"
      ]
     },
     "metadata": {},
     "output_type": "display_data"
    },
    {
     "name": "stdout",
     "output_type": "stream",
     "text": [
      "3.141592653589793\n"
     ]
    },
    {
     "data": {
      "text/plain": [
       "<Figure size 640x480 with 1 Axes>"
      ]
     },
     "metadata": {},
     "output_type": "display_data"
    },
    {
     "name": "stdout",
     "output_type": "stream",
     "text": [
      "3.141592653589793\n"
     ]
    },
    {
     "data": {
      "text/plain": [
       "<Figure size 640x480 with 1 Axes>"
      ]
     },
     "metadata": {},
     "output_type": "display_data"
    },
    {
     "name": "stdout",
     "output_type": "stream",
     "text": [
      "3.141592653589793\n"
     ]
    },
    {
     "data": {
      "text/plain": [
       "<Figure size 640x480 with 1 Axes>"
      ]
     },
     "metadata": {},
     "output_type": "display_data"
    },
    {
     "name": "stdout",
     "output_type": "stream",
     "text": [
      "3.141592653589793\n"
     ]
    },
    {
     "data": {
      "text/plain": [
       "<Figure size 640x480 with 1 Axes>"
      ]
     },
     "metadata": {},
     "output_type": "display_data"
    },
    {
     "name": "stdout",
     "output_type": "stream",
     "text": [
      "3.141592653589793\n"
     ]
    },
    {
     "data": {
      "text/plain": [
       "<Figure size 640x480 with 1 Axes>"
      ]
     },
     "metadata": {},
     "output_type": "display_data"
    },
    {
     "name": "stdout",
     "output_type": "stream",
     "text": [
      "3.141592653589793\n"
     ]
    },
    {
     "data": {
      "text/plain": [
       "<Figure size 640x480 with 1 Axes>"
      ]
     },
     "metadata": {},
     "output_type": "display_data"
    },
    {
     "name": "stdout",
     "output_type": "stream",
     "text": [
      "3.141592653589793\n"
     ]
    },
    {
     "data": {
      "text/plain": [
       "<Figure size 640x480 with 1 Axes>"
      ]
     },
     "metadata": {},
     "output_type": "display_data"
    },
    {
     "name": "stdout",
     "output_type": "stream",
     "text": [
      "3.141592653589793\n"
     ]
    },
    {
     "data": {
      "text/plain": [
       "<Figure size 640x480 with 1 Axes>"
      ]
     },
     "metadata": {},
     "output_type": "display_data"
    },
    {
     "name": "stdout",
     "output_type": "stream",
     "text": [
      "3.141592653589793\n"
     ]
    },
    {
     "data": {
      "text/plain": [
       "<Figure size 640x480 with 1 Axes>"
      ]
     },
     "metadata": {},
     "output_type": "display_data"
    },
    {
     "name": "stdout",
     "output_type": "stream",
     "text": [
      "3.141592653589793\n"
     ]
    },
    {
     "data": {
      "text/plain": [
       "<Figure size 640x480 with 1 Axes>"
      ]
     },
     "metadata": {},
     "output_type": "display_data"
    },
    {
     "name": "stdout",
     "output_type": "stream",
     "text": [
      "3.141592653589793\n"
     ]
    },
    {
     "data": {
      "text/plain": [
       "<Figure size 640x480 with 1 Axes>"
      ]
     },
     "metadata": {},
     "output_type": "display_data"
    },
    {
     "name": "stdout",
     "output_type": "stream",
     "text": [
      "3.141592653589793\n"
     ]
    },
    {
     "data": {
      "text/plain": [
       "<Figure size 640x480 with 1 Axes>"
      ]
     },
     "metadata": {},
     "output_type": "display_data"
    },
    {
     "name": "stdout",
     "output_type": "stream",
     "text": [
      "x(pi) using Eguess from Newton method is -2.7925758988881985e-05 which is almost 0 satisfying BC at x(pi)\n",
      "Eguess_final is 1 which is n^2 with n=1\n"
     ]
    }
   ],
   "source": [
    "def shooting_eigen(Eguess): #function takes Eguess\n",
    "    E=Eguess\n",
    "    \n",
    "    import numpy as np\n",
    "    import matplotlib as mp\n",
    "    import matplotlib.pyplot as plt\n",
    "\n",
    "\n",
    "    #I have Garcia's rk4 module in the same working directory\n",
    "    from rk4 import rk4\t\t\t\t\t\t#this imports rk4\n",
    "\n",
    "    def derivatives_shooting(x,t,params): #two input arguments x and t, x=[z1,x1]; fucntion defines derivatives \n",
    "      \n",
    "\n",
    "        z1,x1=x\n",
    "        x= np.asarray(x)\n",
    "\n",
    "      \n",
    "\n",
    "        #derivatives writtewn as two coupled odes\n",
    "        dz1dt=-E*x1\n",
    "\n",
    "        dx1dt=z1\n",
    "\n",
    "        dxdt=[dz1dt, dx1dt]\n",
    "        dxdt=np.asarray(dxdt)\n",
    "        return dxdt\n",
    "        return np.reshape(dxdt,2) #function returns the derivatives\n",
    "\n",
    "\n",
    "\n",
    "    x=np.array([np.array([1.]), np.array([0])]) #intial values\n",
    "\n",
    "    x=np.reshape(x,2)\n",
    "\n",
    "\n",
    "    t=0. \n",
    "    T=np.pi #T is the final time\n",
    "    print(T)\n",
    "\n",
    "\n",
    "    dt=0.01 #time step\n",
    "    niter=T/dt \n",
    "  \n",
    "\n",
    "     #where we will store the data at each timestep for rk4\n",
    "    sampleTimes=np.asarray(range(int(niter)+1))*dt #sampleTimes=sample_zvalues\n",
    "    rk4Result1=[1.]\t\t#where we will store the data for plotting; rk4Result1 corresponds to z1\n",
    "    rk4Result2=[0.] #rk4Result2 corresponds to x1\n",
    "\n",
    "\n",
    "    #integrating\n",
    "\n",
    "    for titer in range(int(niter)):\n",
    "        x=rk4(x,t,dt,derivatives_shooting,[])\n",
    "\n",
    "        rk4Result1=np.append(rk4Result1,[x[0]])#store the value of x\n",
    "        rk4Result2=np.append(rk4Result2,[x[1]])\n",
    "        t=t+dt\n",
    "    x_pi_Eguess=rk4Result2[-1] #corresponds to x value at pi\n",
    "    \n",
    "    #plotting commands; just to get a visual idea of the solution\n",
    "    fig,(a1)=plt.subplots(1)\n",
    "\n",
    "\n",
    "    a1.plot(sampleTimes,rk4Result1,color='r',label='z')\n",
    "    a1.plot(sampleTimes,rk4Result2,color='b',label='x')\n",
    "\n",
    "\n",
    "    ax1=a1.axes\n",
    "\n",
    "    a1.legend(loc='lower left')\n",
    "    a1.set_xlabel('t')\n",
    "    a1.set_ylabel('x or z')\n",
    "\n",
    "    #plt.savefig('Pb3.png')\n",
    "    plt.show()\t\n",
    "    \n",
    "\n",
    "    return x_pi_Eguess #function returns x value at pi\n",
    "\n",
    "\n",
    "#Newton's method implementation\n",
    "\n",
    "\n",
    "def shooting_Newton(Eguess, dE, tol, maxiter): #input paramemters are Eguess and dE step, tolerance and max iterations\n",
    "    import numpy as np\n",
    "    iter_count=1 #to keep count of the number of iterations\n",
    "    for element in np.arange(maxiter):\n",
    "            der=(shooting_eigen(Eguess+dE)-shooting_eigen(Eguess))/dE #shooting_eigen(Eguess) is g(E)=x(pi) of question #\n",
    "            #derivative  of g(E) is der\n",
    "            delta=-shooting_eigen(Eguess)/der #delta is the change for each step min netwon's method\n",
    "            \n",
    "            if abs(delta)<=tol: #if tolerance reached, stop loop\n",
    "                break\n",
    "            if iter_count==maxiter: #if maxiter reached stop loop\n",
    "                break\n",
    "            Eguess=Eguess+delta #updating Eguess  \n",
    "            iter_count=iter_count+1\n",
    "    return np.array([Eguess, iter_count, delta]) #returns Eguess for whcich g(E)-x(pi)=0; note x(pi)=0 \n",
    "Eguess=.01 #given in question\n",
    "Output=shooting_Newton(Eguess,.01,.0001, 2000)\n",
    "\n",
    "Eguess_final=Output[0] #extracting Eguess from newton's method output\n",
    "\n",
    "#Checking if the above Eguess_final indeed gives x(pi) close to 0\n",
    "print('x(pi) using Eguess from Newton method is '+str(shooting_eigen(Eguess_final))+' which is almost 0 satisfying BC at x(pi)')\n",
    "\n",
    "#printing Eguess_final\n",
    "print('Eguess_final is '+ str(int(Output[0])) + ' which is n^2 with n=1')"
   ]
  },
  {
   "cell_type": "code",
   "execution_count": null,
   "metadata": {},
   "outputs": [],
   "source": []
  }
 ],
 "metadata": {
  "kernelspec": {
   "display_name": "Python 3",
   "language": "python",
   "name": "python3"
  },
  "language_info": {
   "codemirror_mode": {
    "name": "ipython",
    "version": 3
   },
   "file_extension": ".py",
   "mimetype": "text/x-python",
   "name": "python",
   "nbconvert_exporter": "python",
   "pygments_lexer": "ipython3",
   "version": "3.7.4"
  }
 },
 "nbformat": 4,
 "nbformat_minor": 2
}
