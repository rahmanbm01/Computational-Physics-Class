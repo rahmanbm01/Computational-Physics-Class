{
 "cells": [
  {
   "cell_type": "code",
   "execution_count": 37,
   "metadata": {},
   "outputs": [
    {
     "name": "stdout",
     "output_type": "stream",
     "text": [
      "xrk4(T) is [-0.9585871830343914, 0.8414704778002743, 0.4794255152508447, 0.09983341663852982, 0.04997916927041819, 0.009999833334166581]\n",
      "xverlet(T) is [-0.6842799186706543, 0.8925317615571862, 0.5228995160040915, 0.10978012866568497, 0.05497250402160689, 0.010999780001287004]\n"
     ]
    },
    {
     "data": {
      "image/png": "[encoded data removed]",
      "text/plain": [
       "<Figure size 432x288 with 1 Axes>"
      ]
     },
     "metadata": {
      "needs_background": "light"
     },
     "output_type": "display_data"
    }
   ],
   "source": [
    "import numpy as np\n",
    "import matplotlib as mp\n",
    "import matplotlib.pyplot as plt\n",
    "\n",
    "#I have Garcia's rk4 module in the same working directory\n",
    "\n",
    "from rk4 import rk4\t\t\t\t\t\t#this imports rk4 \n",
    "\t\t\t\t\t\t\t\t\t\t\n",
    "\t\t\t\t\t\t\t\t\n",
    "\t\t\t\t\t\t\t\t\t\t\n",
    "def deriv(X,t,param):\n",
    "\treturn np.array([X[1],-X[0]])  # this is dX/dt = deriv(X,t)\n",
    "\t\t\t\t\t\t\t\t\t\t\t#note that this funny form is chosen to match Garcia's rk4 function\n",
    "\t\t\t\t\t\t\t\n",
    "\t\t\t\t\t\t\t\t\t\t\n",
    "'''\n",
    "def euler(X,t,tau,derivs,params):\t\t#this defines the euler update.  Pretty easy to code, but remember it's innacurate\n",
    "\treturn X+tau*deriv(X,t,params)\t\t#the function definition matches rk4\n",
    "\n",
    "'''\n",
    "\n",
    "\n",
    "\n",
    "\n",
    "\n",
    "distance=0.\n",
    "velocity=1.0\n",
    "t=0.0\n",
    "T=5.0\n",
    "#g=9.81\n",
    "#L=1.0\n",
    "#these are the parameters for our system\n",
    "\n",
    "dt_array=[.5,.1,.05,.01,.005,.001] #time steps list\n",
    "dt=0.5\n",
    "niter=T/dt\n",
    "#these are the parameters for our integrator\n",
    "\n",
    "\n",
    "X=np.array([0.0,1.0],dtype=float)  #where we will store the data at each timestep for  rk4\n",
    "#sampleTimes=np.asarray(range(int(niter)+1))*dt\n",
    "rk4Result=np.asarray([distance])\t\t#where we will store the data for plotting\n",
    "\n",
    "verletResult=np.asarray([distance])\n",
    "\n",
    "y=np.ones(len(dt_array))*np.sin(5) #y is sin(T) for calcualtion of g1 and g2\n",
    "#print(y)\n",
    "rk4Result_finalT=[] #initializing list to store distance at T=5 for each time step\n",
    "verletResult_finalT=[] #initializing list to store distance at T=5 for each time step\n",
    "\n",
    "\n",
    "\n",
    "#loop to calcualte distances for the time range and storing the distance at final time T=5 in list rk4Result_finalT  for a particular time step in dt_array\n",
    "for i in dt_array: \n",
    "    \n",
    "    X[0]=distance\n",
    "    X[1]=velocity\n",
    "    t=0\n",
    "    dt=i\n",
    "    for titer in range(int(niter)):\n",
    "        \n",
    "        X=rk4(X,t,dt,deriv,[])\n",
    "        rk4Result=np.append(rk4Result,[X[0]])  #store the value of distance we saw\n",
    "        t=t+dt\n",
    "    \n",
    "    #print(rk4Result)\n",
    "    #print(rk4Result[-1])\n",
    "    rk4Result_finalT.append(rk4Result[-1])\n",
    "\n",
    "print('xrk4(T) is '+ str(rk4Result_finalT))\n",
    "\t\n",
    "\t\n",
    "\t\n",
    "#loop to calcualte distances for the time range and storing the distance at  final time T=5 in list verletResult_finalT for a particular time step in dt_array\n",
    "for i in dt_array:\n",
    "    dt=i\n",
    "    t=0\n",
    "    X[1]=distance  \t\t\t\t\t\t\t\t\t\t\t\t#initial value of the distance\n",
    "    X[0]=distance+velocity*dt+dt*dt*(-distance)/2\t\t\t\t\t#next value of the distance (startup)\n",
    "    np.append(verletResult,[X[0]])\n",
    "    for titer in range(int(niter)):\n",
    "        xcurr=X[0]\t\t\t\t\t\t\t\t\t#current value of x\n",
    "        X[0]=2*X[0]-X[1]+dt*dt*(-(xcurr))\t\t#update the value of the current x\n",
    "        X[1]=xcurr\t\t\t\t\t\t\t\t\t#update the value of the old x\n",
    "        verletResult=np.append(verletResult,[X[0]])  \t\t\t#store the value of distance we saw\n",
    "        t=t+dt\n",
    "    #print(verletResult)\n",
    "    #print(verletResult[-1])\n",
    "    verletResult_finalT.append(verletResult[-1])\n",
    "print('xverlet(T) is '+ str(verletResult_finalT))\n",
    "\n",
    "g2=abs(y-rk4Result_finalT) #calcualting g2 as asked\n",
    "g1=abs(y-verletResult_finalT) #calcualting g1 as asked\n",
    "fig,(a1)=plt.subplots(1)\n",
    "\n",
    "\n",
    "a1.plot(dt_array,g2,color='r',label='g2_rk4')\n",
    "a1.plot(dt_array,g1,color='k',label='g1_Verlet')\n",
    "\n",
    "ax1=a1.axes\n",
    "\n",
    "a1.legend(loc='lower left')\n",
    "a1.set_xlabel('t')\n",
    "a1.set_ylabel('distance')\n",
    "a1.set_xscale('log')\n",
    "a1.set_yscale('log')\n",
    "\n",
    "plt.savefig('Pb2b.png')\n",
    "plt.show()\t"
   ]
  },
  {
   "cell_type": "code",
   "execution_count": null,
   "metadata": {},
   "outputs": [],
   "source": []
  },
  {
   "cell_type": "code",
   "execution_count": null,
   "metadata": {},
   "outputs": [],
   "source": []
  }
 ],
 "metadata": {
  "kernelspec": {
   "display_name": "Python 3",
   "language": "python",
   "name": "python3"
  },
  "language_info": {
   "codemirror_mode": {
    "name": "ipython",
    "version": 3
   },
   "file_extension": ".py",
   "mimetype": "text/x-python",
   "name": "python",
   "nbconvert_exporter": "python",
   "pygments_lexer": "ipython3",
   "version": "3.7.4"
  }
 },
 "nbformat": 4,
 "nbformat_minor": 2
}
