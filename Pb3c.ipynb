{
 "cells": [
  {
   "cell_type": "code",
   "execution_count": 9,
   "metadata": {},
   "outputs": [
    {
     "data": {
      "image/png": "[encoded data removed]",
      "text/plain": [
       "<Figure size 432x288 with 1 Axes>"
      ]
     },
     "metadata": {
      "needs_background": "light"
     },
     "output_type": "display_data"
    }
   ],
   "source": [
    "import numpy as np\n",
    "import matplotlib as mp\n",
    "import matplotlib.pyplot as plt\n",
    "\n",
    "\n",
    "#I have Garcia's rk4 module in the same working directory\n",
    "from rk4 import rk4\t\t\t\t\t\t#this imports rk4\n",
    "\t\t\t\t\t\t\t\t\t\t\n",
    "\t\t\t\t\t\t\t\t\n",
    "\t\t\t\t\t\t\t\t\t\t\n",
    "def deriv(X,t,param):\n",
    "\treturn np.array([X[1],X[2],(1.-6.*X[0])*X[1]])  # this is dX/dt = deriv(X,t)\n",
    "\t\t\t\t\t\t\t\t\t\t\t#note that this funny form is chosen to match Garcia's rk4 function\n",
    "\t\t\t\t\t\t\t\n",
    "\t\t\t\t\t\t\t\t\t\t\n",
    "\n",
    "\n",
    "\n",
    "\n",
    "\n",
    "#Initial given w and its derivatives\n",
    "w=0.5\n",
    "w_dot=0.0\n",
    "w_dot_dot=-0.25\n",
    "\n",
    "t=0.0 #t=z\n",
    "T=5.0 #T=Z=final_zvalue\n",
    "\n",
    "\n",
    "\n",
    "dt=0.05 #dz=dt\n",
    "niter=T/dt\n",
    "#these are the parameters for our integrator\n",
    "\n",
    "\n",
    "X=np.array([0.0,0.0, 0.0],dtype=float)  #where we will store the data at each timestep for euler / rk4\n",
    "sampleTimes=np.asarray(range(int(niter)+1))*dt #sampleTimes=sample_zvalues\n",
    "rk4Result=np.asarray([w])\t\t#where we will store the data for plotting\n",
    "#print(sampleTimes)\n",
    "\n",
    "w_exact=0.5*(1/(np.cosh(sampleTimes/2)))**2 #exact solution as given in question\n",
    "\n",
    "#print(w_exact)\n",
    "X[0]=w\n",
    "X[1]=w_dot\n",
    "X[2]=w_dot_dot\n",
    "t=0\n",
    "for titer in range(int(niter)):\n",
    "\tX=rk4(X,t,dt,deriv,[])\n",
    "    \n",
    "\trk4Result=np.append(rk4Result,[X[0]])  #store the value of w we saw\n",
    "\tt=t+dt\n",
    "\n",
    "\t#print(X)\n",
    "\n",
    "\n",
    "\n",
    "#plotting commands\n",
    "fig,(a1)=plt.subplots(1)\n",
    "\n",
    "#a1.plot(sampleTimes,eulerResult/2/np.pi,color='b',label='Euler')\n",
    "a1.plot(sampleTimes,rk4Result,color='r',label='rk4')\n",
    "a1.plot(sampleTimes,w_exact,color='k',label='w_exact')\n",
    "\n",
    "ax1=a1.axes\n",
    "\n",
    "a1.legend(loc='lower left')\n",
    "a1.set_xlabel('z')\n",
    "a1.set_ylabel('w')\n",
    "\n",
    "plt.savefig('Pb3c.png')\n",
    "plt.show()\t"
   ]
  },
  {
   "cell_type": "code",
   "execution_count": null,
   "metadata": {},
   "outputs": [],
   "source": []
  },
  {
   "cell_type": "code",
   "execution_count": null,
   "metadata": {},
   "outputs": [],
   "source": []
  }
 ],
 "metadata": {
  "kernelspec": {
   "display_name": "Python 3",
   "language": "python",
   "name": "python3"
  },
  "language_info": {
   "codemirror_mode": {
    "name": "ipython",
    "version": 3
   },
   "file_extension": ".py",
   "mimetype": "text/x-python",
   "name": "python",
   "nbconvert_exporter": "python",
   "pygments_lexer": "ipython3",
   "version": "3.7.4"
  }
 },
 "nbformat": 4,
 "nbformat_minor": 2
}
